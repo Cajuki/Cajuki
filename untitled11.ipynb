{
  "nbformat": 4,
  "nbformat_minor": 0,
  "metadata": {
    "colab": {
      "provenance": [],
      "authorship_tag": "ABX9TyOtGkS1ESDOW8nbQRRhKA6o",
      "include_colab_link": true
    },
    "kernelspec": {
      "name": "python3",
      "display_name": "Python 3"
    },
    "language_info": {
      "name": "python"
    }
  },
  "cells": [
    {
      "cell_type": "markdown",
      "metadata": {
        "id": "view-in-github",
        "colab_type": "text"
      },
      "source": [
        "<a href=\"https://colab.research.google.com/github/Cajuki/Cajuki/blob/main/untitled11.ipynb\" target=\"_parent\"><img src=\"https://colab.research.google.com/assets/colab-badge.svg\" alt=\"Open In Colab\"/></a>"
      ]
    },
    {
      "cell_type": "code",
      "execution_count": null,
      "metadata": {
        "id": "71KlMD91wEpS"
      },
      "outputs": [],
      "source": [
        "import pandas as pd\n",
        "from sklearn.linear_model import LinearRegression\n",
        "import joblib\n",
        "\n",
        "# Load the dataset\n",
        "data = pd.read_csv('accident dataset.csv')"
      ]
    },
    {
      "cell_type": "code",
      "source": [
        "# Define the dependent variable\n",
        "y = data['Accident Severity']\n",
        "\n",
        "# Define the independent variables\n",
        "X = data[['Road Conditions', 'Weather Conditions', 'Time of Day', 'Speed Limit', 'Driver's Age']]"
      ],
      "metadata": {
        "colab": {
          "base_uri": "https://localhost:8080/",
          "height": 145
        },
        "id": "_Ex-QQsuwZFq",
        "outputId": "2a80b568-3d92-4ce1-d509-3acf521beab0"
      },
      "execution_count": null,
      "outputs": [
        {
          "output_type": "error",
          "ename": "SyntaxError",
          "evalue": "ignored",
          "traceback": [
            "\u001b[0;36m  File \u001b[0;32m\"<ipython-input-5-df8664c13317>\"\u001b[0;36m, line \u001b[0;32m5\u001b[0m\n\u001b[0;31m    X = data[['Road Conditions', 'Weather Conditions', 'Time of Day', 'Speed Limit', 'Traffic Signals', 'Driver's Age']]\u001b[0m\n\u001b[0m                                                                                                                 ^\u001b[0m\n\u001b[0;31mSyntaxError\u001b[0m\u001b[0;31m:\u001b[0m invalid non-printable character U+00A0\n"
          ]
        }
      ]
    },
    {
      "cell_type": "code",
      "source": [
        "python\n",
        "# Create an instance of the Linear Regression model\n",
        "model = LinearRegression()\n",
        "\n",
        "# Fit the model to the training data\n",
        "model.fit(X, y)"
      ],
      "metadata": {
        "id": "7Kgi3YXDygFd"
      },
      "execution_count": null,
      "outputs": []
    },
    {
      "cell_type": "code",
      "source": [
        "# Hypothetical set of independent variables\n",
        "new_data = pd.DataFrame({'Road Conditions': ['wet'],\n",
        "                         'Weather Conditions': ['rainy'],\n",
        "                         'Time of Day': ['evening'],\n",
        "                         'Speed Limit': [50],\n",
        "                         'Driver's Age': [35]})"
      ],
      "metadata": {
        "id": "D81CPWRtyoZM"
      },
      "execution_count": null,
      "outputs": []
    },
    {
      "cell_type": "code",
      "source": [
        "# Load the saved model\n",
        "loaded_model = joblib.load('accident_severity_model.pkl')\n",
        "\n",
        "# Predict the accident severity\n",
        "prediction = loaded_model.predict(new_data)\n",
        "\n",
        "# Print the predicted accident severity\n",
        "print('Predicted Accident Severity:', prediction)"
      ],
      "metadata": {
        "id": "W2pJmHn0y09y"
      },
      "execution_count": null,
      "outputs": []
    }
  ]
}